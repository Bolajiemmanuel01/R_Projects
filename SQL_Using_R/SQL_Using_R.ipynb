{
 "cells": [
  {
   "cell_type": "code",
   "execution_count": null,
   "id": "a9933d01",
   "metadata": {},
   "outputs": [],
   "source": [
    "install.packages(\"RSQLite\")\n",
    "library(\"RSQLite\")"
   ]
  },
  {
   "cell_type": "code",
   "execution_count": null,
   "id": "a70a3738",
   "metadata": {},
   "outputs": [],
   "source": []
  }
 ],
 "metadata": {
  "kernelspec": {
   "display_name": "R",
   "language": "R",
   "name": "ir"
  }
 },
 "nbformat": 4,
 "nbformat_minor": 5
}
